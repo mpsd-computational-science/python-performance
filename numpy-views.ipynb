{
 "cells": [
  {
   "cell_type": "markdown",
   "id": "6d002474",
   "metadata": {},
   "source": [
    "# Experiments on views / copies / shared memory with numpy\n",
    "\n",
    "Follow ideas from https://shihchinw.github.io/2019/03/performance-tips-of-numpy-ndarray.html\n",
    "\n",
    "Needs tidying up."
   ]
  },
  {
   "cell_type": "code",
   "execution_count": 1,
   "id": "cd777875",
   "metadata": {},
   "outputs": [],
   "source": [
    "import sys\n",
    "import time\n",
    "\n",
    "import numpy as np"
   ]
  },
  {
   "cell_type": "markdown",
   "id": "e5e3ae6f",
   "metadata": {},
   "source": [
    "# Names are references bound to objects"
   ]
  },
  {
   "cell_type": "code",
   "execution_count": 2,
   "id": "0bb66763",
   "metadata": {},
   "outputs": [
    {
     "data": {
      "text/plain": [
       "4567036864"
      ]
     },
     "execution_count": 2,
     "metadata": {},
     "output_type": "execute_result"
    }
   ],
   "source": [
    "a = list(range(5))\n",
    "id(a)"
   ]
  },
  {
   "cell_type": "code",
   "execution_count": 3,
   "id": "668f399f",
   "metadata": {},
   "outputs": [],
   "source": [
    "b = a  # means b is another name for the object referenced by name a"
   ]
  },
  {
   "cell_type": "code",
   "execution_count": 4,
   "id": "d7878ca2",
   "metadata": {},
   "outputs": [
    {
     "data": {
      "text/plain": [
       "True"
      ]
     },
     "execution_count": 4,
     "metadata": {},
     "output_type": "execute_result"
    }
   ],
   "source": [
    "b is a  # both a and b reference the same object"
   ]
  },
  {
   "cell_type": "code",
   "execution_count": 5,
   "id": "a579e0df",
   "metadata": {},
   "outputs": [
    {
     "data": {
      "text/plain": [
       "[5, 1, 2, 3, 4]"
      ]
     },
     "execution_count": 5,
     "metadata": {},
     "output_type": "execute_result"
    }
   ],
   "source": [
    "b[0] = 5\n",
    "b"
   ]
  },
  {
   "cell_type": "code",
   "execution_count": 6,
   "id": "ae57e5a9",
   "metadata": {},
   "outputs": [
    {
     "data": {
      "text/plain": [
       "[5, 1, 2, 3, 4]"
      ]
     },
     "execution_count": 6,
     "metadata": {},
     "output_type": "execute_result"
    }
   ],
   "source": [
    "a"
   ]
  },
  {
   "cell_type": "code",
   "execution_count": 7,
   "id": "dcf1ee03",
   "metadata": {},
   "outputs": [
    {
     "data": {
      "text/plain": [
       "False"
      ]
     },
     "execution_count": 7,
     "metadata": {},
     "output_type": "execute_result"
    }
   ],
   "source": [
    "c = [5, 1, 2, 3, 4]\n",
    "c is a  # They are different objects"
   ]
  },
  {
   "cell_type": "code",
   "execution_count": 8,
   "id": "161103d7",
   "metadata": {},
   "outputs": [
    {
     "data": {
      "text/plain": [
       "True"
      ]
     },
     "execution_count": 8,
     "metadata": {},
     "output_type": "execute_result"
    }
   ],
   "source": [
    "c == a  # But they have the same representative values"
   ]
  },
  {
   "cell_type": "markdown",
   "id": "f89a501a",
   "metadata": {},
   "source": [
    "# Sharing data via views in `numpy` / modifying objects in place"
   ]
  },
  {
   "cell_type": "code",
   "execution_count": 9,
   "id": "df159263",
   "metadata": {},
   "outputs": [
    {
     "data": {
      "text/plain": [
       "{'data': (105553123559168, False),\n",
       " 'strides': None,\n",
       " 'descr': [('', '<f8')],\n",
       " 'typestr': '<f8',\n",
       " 'shape': (5, 3),\n",
       " 'version': 3}"
      ]
     },
     "execution_count": 9,
     "metadata": {},
     "output_type": "execute_result"
    }
   ],
   "source": [
    "a = np.random.rand(5, 3)\n",
    "a.__array_interface__\n"
   ]
  },
  {
   "cell_type": "code",
   "execution_count": 10,
   "id": "7e9c2b09",
   "metadata": {},
   "outputs": [
    {
     "data": {
      "text/plain": [
       "  C_CONTIGUOUS : True\n",
       "  F_CONTIGUOUS : False\n",
       "  OWNDATA : True\n",
       "  WRITEABLE : True\n",
       "  ALIGNED : True\n",
       "  WRITEBACKIFCOPY : False\n",
       "  UPDATEIFCOPY : False"
      ]
     },
     "execution_count": 10,
     "metadata": {},
     "output_type": "execute_result"
    }
   ],
   "source": [
    "a.flags"
   ]
  },
  {
   "cell_type": "code",
   "execution_count": 11,
   "id": "5c452f90",
   "metadata": {},
   "outputs": [
    {
     "data": {
      "text/plain": [
       "True"
      ]
     },
     "execution_count": 11,
     "metadata": {},
     "output_type": "execute_result"
    }
   ],
   "source": [
    "a.flags['OWNDATA']\n"
   ]
  },
  {
   "cell_type": "code",
   "execution_count": 12,
   "id": "791caa12",
   "metadata": {},
   "outputs": [
    {
     "data": {
      "text/plain": [
       "True"
      ]
     },
     "execution_count": 12,
     "metadata": {},
     "output_type": "execute_result"
    }
   ],
   "source": [
    "np.shares_memory(a, a[2:, 1:])"
   ]
  },
  {
   "cell_type": "code",
   "execution_count": 13,
   "id": "b7b67006",
   "metadata": {},
   "outputs": [
    {
     "data": {
      "text/plain": [
       "False"
      ]
     },
     "execution_count": 13,
     "metadata": {},
     "output_type": "execute_result"
    }
   ],
   "source": [
    "np.shares_memory(a, a+2)  # work on copy. To change array in place, use \"a += 2\""
   ]
  },
  {
   "cell_type": "code",
   "execution_count": 14,
   "id": "2df24deb",
   "metadata": {},
   "outputs": [
    {
     "data": {
      "text/plain": [
       "False"
      ]
     },
     "execution_count": 14,
     "metadata": {},
     "output_type": "execute_result"
    }
   ],
   "source": [
    "np.shares_memory(a, a[a > 0])"
   ]
  },
  {
   "cell_type": "code",
   "execution_count": 15,
   "id": "1a039027",
   "metadata": {},
   "outputs": [
    {
     "data": {
      "text/plain": [
       "False"
      ]
     },
     "execution_count": 15,
     "metadata": {},
     "output_type": "execute_result"
    }
   ],
   "source": [
    "np.shares_memory(a, a.copy())"
   ]
  },
  {
   "cell_type": "code",
   "execution_count": 16,
   "id": "740de156",
   "metadata": {},
   "outputs": [
    {
     "data": {
      "text/plain": [
       "False"
      ]
     },
     "execution_count": 16,
     "metadata": {},
     "output_type": "execute_result"
    }
   ],
   "source": [
    "\n",
    "np.shares_memory(a, a.flatten())  # flatten always returns a copy"
   ]
  },
  {
   "cell_type": "code",
   "execution_count": 17,
   "id": "965a4dbc",
   "metadata": {},
   "outputs": [
    {
     "data": {
      "text/plain": [
       "True"
      ]
     },
     "execution_count": 17,
     "metadata": {},
     "output_type": "execute_result"
    }
   ],
   "source": [
    "np.shares_memory(a, a.ravel())  # ravel creates a view if possible"
   ]
  },
  {
   "cell_type": "code",
   "execution_count": 18,
   "id": "abcdf492",
   "metadata": {},
   "outputs": [
    {
     "data": {
      "text/plain": [
       "True"
      ]
     },
     "execution_count": 18,
     "metadata": {},
     "output_type": "execute_result"
    }
   ],
   "source": [
    "np.shares_memory(a, a.transpose())"
   ]
  },
  {
   "cell_type": "code",
   "execution_count": 19,
   "id": "ecf6ddc2",
   "metadata": {},
   "outputs": [
    {
     "data": {
      "text/plain": [
       "True"
      ]
     },
     "execution_count": 19,
     "metadata": {},
     "output_type": "execute_result"
    }
   ],
   "source": [
    "np.shares_memory(a, a.reshape(3, 5))"
   ]
  }
 ],
 "metadata": {
  "kernelspec": {
   "display_name": "Python 3 (ipykernel)",
   "language": "python",
   "name": "python3"
  },
  "language_info": {
   "codemirror_mode": {
    "name": "ipython",
    "version": 3
   },
   "file_extension": ".py",
   "mimetype": "text/x-python",
   "name": "python",
   "nbconvert_exporter": "python",
   "pygments_lexer": "ipython3",
   "version": "3.10.0"
  }
 },
 "nbformat": 4,
 "nbformat_minor": 5
}
